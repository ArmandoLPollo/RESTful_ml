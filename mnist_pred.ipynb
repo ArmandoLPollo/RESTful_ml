{
 "cells": [
  {
   "cell_type": "code",
   "execution_count": 4,
   "id": "4825f636",
   "metadata": {},
   "outputs": [],
   "source": [
    "import tensorflow as tf\n",
    "from tensorflow import keras\n",
    "import pandas as pd\n",
    "import numpy as np\n",
    "from keras.callbacks import ModelCheckpoint\n",
    "from keras.callbacks import EarlyStopping"
   ]
  },
  {
   "cell_type": "code",
   "execution_count": 5,
   "id": "70989fcc",
   "metadata": {},
   "outputs": [],
   "source": [
    "#df_train = pd.read_csv('fashion-mnist-train-1.csv')\n",
    "df_train = pd.read_csv('fashion-mnist-train-2.csv')\n",
    "df_test = pd.read_csv('fashion-mnist_test.csv')\n",
    "\n",
    "X_train = df_train.drop('label', axis=1).values\n",
    "y_train = df_train['label'].values\n",
    "X_test = df_test.drop('label', axis=1).values\n",
    "y_test = df_test['label'].values"
   ]
  },
  {
   "cell_type": "code",
   "execution_count": 6,
   "id": "47175ef8",
   "metadata": {},
   "outputs": [],
   "source": [
    "# reshape \n",
    "X_train =  X_train.reshape(X_train.shape[0], 28, 28,)\n",
    "X_test =  X_test.reshape(X_test.shape[0], 28, 28,)\n",
    "#normalize\n",
    "X_train, X_test = X_train/255.0, X_test/255.0"
   ]
  },
  {
   "cell_type": "code",
   "execution_count": 7,
   "id": "5ccc0b4a",
   "metadata": {},
   "outputs": [],
   "source": [
    "# Build the model\n",
    "model = keras.Sequential([\n",
    "    keras.layers.Conv2D(32, 3, activation='relu', input_shape=(28, 28,)),\n",
    "    keras.layers.MaxPooling2D(),\n",
    "    keras.layers.Flatten(),\n",
    "    keras.layers.Dense(128, activation='relu'),\n",
    "    keras.layers.Dense(10, activation='softmax')\n",
    "])"
   ]
  },
  {
   "cell_type": "code",
   "execution_count": 8,
   "id": "16234aac",
   "metadata": {},
   "outputs": [],
   "source": [
    "# Compile the model\n",
    "model.compile(optimizer='adam', loss='sparse_categorical_crossentropy', metrics=['accuracy'])\n",
    "es = EarlyStopping(monitor='val_accuracy', mode='auto', verbose=0,patience=10)\n",
    "mc = ModelCheckpoint('best_model.h5', monitor='val_accuracy', mode='max', verbose=1, save_best_only=True)"
   ]
  },
  {
   "cell_type": "code",
   "execution_count": 9,
   "id": "ecd03494",
   "metadata": {},
   "outputs": [
    {
     "name": "stdout",
     "output_type": "stream",
     "text": [
      "\n",
      "Epoch 1: val_accuracy improved from -inf to 0.85267, saving model to best_model.h5\n",
      "\n",
      "Epoch 2: val_accuracy improved from 0.85267 to 0.86400, saving model to best_model.h5\n",
      "\n",
      "Epoch 3: val_accuracy improved from 0.86400 to 0.87633, saving model to best_model.h5\n",
      "\n",
      "Epoch 4: val_accuracy improved from 0.87633 to 0.88300, saving model to best_model.h5\n",
      "\n",
      "Epoch 5: val_accuracy did not improve from 0.88300\n",
      "\n",
      "Epoch 6: val_accuracy did not improve from 0.88300\n",
      "\n",
      "Epoch 7: val_accuracy did not improve from 0.88300\n",
      "\n",
      "Epoch 8: val_accuracy did not improve from 0.88300\n",
      "\n",
      "Epoch 9: val_accuracy did not improve from 0.88300\n",
      "\n",
      "Epoch 10: val_accuracy did not improve from 0.88300\n"
     ]
    },
    {
     "data": {
      "text/plain": [
       "<keras.callbacks.History at 0x1ced3b6f520>"
      ]
     },
     "execution_count": 9,
     "metadata": {},
     "output_type": "execute_result"
    }
   ],
   "source": [
    "# Train the model\n",
    "model.fit(X_train, y_train, validation_split=0.2, epochs=10, verbose=0,callbacks=[es, mc])"
   ]
  },
  {
   "cell_type": "code",
   "execution_count": 10,
   "id": "e099c3f6",
   "metadata": {},
   "outputs": [
    {
     "name": "stdout",
     "output_type": "stream",
     "text": [
      "313/313 [==============================] - 1s 2ms/step - loss: 0.3789 - accuracy: 0.8793\n",
      "Test Accuracy: 0.8792999982833862\n"
     ]
    }
   ],
   "source": [
    "# Evaluate the model\n",
    "test_loss, test_acc = model.evaluate(X_test, y_test)\n",
    "print('Test Accuracy:', test_acc)"
   ]
  }
 ],
 "metadata": {
  "kernelspec": {
   "display_name": "Python 3.8.10 64-bit",
   "language": "python",
   "name": "python3"
  },
  "language_info": {
   "codemirror_mode": {
    "name": "ipython",
    "version": 3
   },
   "file_extension": ".py",
   "mimetype": "text/x-python",
   "name": "python",
   "nbconvert_exporter": "python",
   "pygments_lexer": "ipython3",
   "version": "3.8.10"
  },
  "vscode": {
   "interpreter": {
    "hash": "4b5b55ef11c4822e9668684aeb01fcaae9ebb6b0ee41a60e4bfd4fb46ba8e636"
   }
  }
 },
 "nbformat": 4,
 "nbformat_minor": 5
}
